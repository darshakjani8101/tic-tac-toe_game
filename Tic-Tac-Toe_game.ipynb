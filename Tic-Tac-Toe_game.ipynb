{
 "cells": [
  {
   "cell_type": "markdown",
   "metadata": {},
   "source": [
    "**Step 1: Write a function that can print out a board. Set up our board as a list, where each index 1-9 corresponds with a number on a number pad, so we get a 3 by 3 board representation.**"
   ]
  },
  {
   "cell_type": "code",
   "execution_count": 12,
   "metadata": {},
   "outputs": [],
   "source": [
    "from IPython.display import clear_output\n",
    "\n",
    "def display_board(board):    \n",
    "    clear_output()\n",
    "    \n",
    "    print(board[7]+'|'+board[8]+'|'+board[9])\n",
    "    print(board[4]+'|'+board[5]+'|'+board[6])\n",
    "    print(board[1]+'|'+board[2]+'|'+board[3])"
   ]
  },
  {
   "cell_type": "markdown",
   "metadata": {},
   "source": [
    "**Step 2: Write a function that can take in a player input and assign their marker as 'X' or 'O'.**"
   ]
  },
  {
   "cell_type": "code",
   "execution_count": 13,
   "metadata": {},
   "outputs": [],
   "source": [
    "def player_input(player1):\n",
    "    marker = ''\n",
    "    \n",
    "    while marker not in ['X','x','O','o']:\n",
    "        marker = input(player1 +\": Choose your marker: 'X' or 'O': \")\n",
    "        if marker not in ['X','x','O','o']:\n",
    "            print(\"Invalid choice!\")\n",
    "        \n",
    "    if marker in ['X','x']:\n",
    "        player1_marker = 'X'\n",
    "        player2_marker = 'O'\n",
    "    else:\n",
    "        player1_marker = 'O'\n",
    "        player2_marker = 'X'\n",
    "        \n",
    "    return (player1_marker, player2_marker)  "
   ]
  },
  {
   "cell_type": "markdown",
   "metadata": {},
   "source": [
    "**Step 3: Write a function that takes in the board list object, a marker ('X' or 'O'), and a desired position (number 1-9) and assigns it to the board.**"
   ]
  },
  {
   "cell_type": "code",
   "execution_count": 14,
   "metadata": {},
   "outputs": [],
   "source": [
    "def place_marker(board, marker, position):\n",
    "     board[position] = marker"
   ]
  },
  {
   "cell_type": "markdown",
   "metadata": {},
   "source": [
    "**Step 4: Write a function that takes in a board and a mark (X or O) and then checks to see if that mark has won.**"
   ]
  },
  {
   "cell_type": "code",
   "execution_count": 15,
   "metadata": {},
   "outputs": [],
   "source": [
    "def win_check(board, mark):\n",
    "    if board[1] == board[2] == board[3] == mark:\n",
    "        return True\n",
    "    elif board[4] == board[5] == board[6] == mark:\n",
    "        return True\n",
    "    elif board[7] == board[8] == board[9] == mark:\n",
    "        return True\n",
    "    elif board[1] == board[4] == board[7] == mark:\n",
    "        return True\n",
    "    elif board[2] == board[5] == board[8] == mark:\n",
    "        return True\n",
    "    elif board[3] == board[6] == board[9] == mark:\n",
    "        return True\n",
    "    elif board[1] == board[5] == board[9] == mark:\n",
    "        return True\n",
    "    elif board[3] == board[5] == board[7] == mark:\n",
    "        return True\n",
    "    return False"
   ]
  },
  {
   "cell_type": "markdown",
   "metadata": {},
   "source": [
    "**Step 5: Write a function that uses the random module to randomly decide which player goes first. Return a string of which player went first.**"
   ]
  },
  {
   "cell_type": "code",
   "execution_count": 16,
   "metadata": {},
   "outputs": [],
   "source": [
    "import random\n",
    "\n",
    "def choose_first(player1, player2):\n",
    "    first_player = random.randint(1,2)\n",
    "    if first_player == 1:\n",
    "        return player1\n",
    "    else:\n",
    "        return player2"
   ]
  },
  {
   "cell_type": "markdown",
   "metadata": {},
   "source": [
    "**Step 6: Write a function that returns a boolean indicating whether a space on the board is freely available.**"
   ]
  },
  {
   "cell_type": "code",
   "execution_count": 17,
   "metadata": {},
   "outputs": [],
   "source": [
    "def space_check(board, position):\n",
    "    if board[position] not in ['X', 'O']:\n",
    "        return True\n",
    "    return False"
   ]
  },
  {
   "cell_type": "markdown",
   "metadata": {},
   "source": [
    "**Step 7: Write a function that checks if the board is full and returns a boolean value. True if full, False otherwise.**"
   ]
  },
  {
   "cell_type": "code",
   "execution_count": 18,
   "metadata": {},
   "outputs": [],
   "source": [
    "def full_board_check(board):\n",
    "    for item in board:\n",
    "        if item not in ['#', 'X', 'O']:\n",
    "            return False\n",
    "    return True"
   ]
  },
  {
   "cell_type": "markdown",
   "metadata": {},
   "source": [
    "**Step 8: Write a function that asks for a player's next position (as a number 1-9) and then uses the function from step 6 to check if it's a free position. If it is, then return the position for later use.**"
   ]
  },
  {
   "cell_type": "code",
   "execution_count": 19,
   "metadata": {},
   "outputs": [],
   "source": [
    "def player_choice(board, current_player):\n",
    "    \n",
    "    choice = 'WRONG'\n",
    "    acceptable_range = range(1, 10)\n",
    "    within_range = False\n",
    "    space_available = False\n",
    "    \n",
    "    while choice.isdigit() == False or within_range == False or space_available == False:\n",
    "        choice = input(current_player+ \": Please enter a number (1-9): \")\n",
    "        \n",
    "        if choice.isdigit() == False:\n",
    "            print(\"Sorry! That is not a digit!\")\n",
    "            \n",
    "        else:\n",
    "            position = int(choice)\n",
    "            if position in acceptable_range:\n",
    "                within_range = True\n",
    "                \n",
    "                if space_check(board, position):\n",
    "                    space_available = True\n",
    "                else:\n",
    "                    print(\"Sorry, Position is already full!\")\n",
    "                \n",
    "            else:\n",
    "                print(\"Sorry, you are out of acceptable range (1-9)\")\n",
    "                \n",
    "            \n",
    "                              \n",
    "    return position"
   ]
  },
  {
   "cell_type": "markdown",
   "metadata": {},
   "source": [
    "**Step 9: Write a function that asks the player if they want to play again and returns a boolean True if they do want to play again.**"
   ]
  },
  {
   "cell_type": "code",
   "execution_count": 20,
   "metadata": {},
   "outputs": [],
   "source": [
    "def replay():\n",
    "    choice = 'WRONG'\n",
    "    while choice not in ['Y','y','N','n']:\n",
    "        choice = input(\"Would you like to play again? (Y/N): \")\n",
    "        \n",
    "        if choice not in ['Y','y','N','n']:\n",
    "            print(\"Sorry! That is not a choice!\")\n",
    "    if choice in ['Y','y']:\n",
    "        return True\n",
    "    return False"
   ]
  },
  {
   "cell_type": "markdown",
   "metadata": {
    "collapsed": true
   },
   "source": [
    "**Step 10: Use while loops and the functions to run the game!**"
   ]
  },
  {
   "cell_type": "code",
   "execution_count": 21,
   "metadata": {},
   "outputs": [
    {
     "name": "stdout",
     "output_type": "stream",
     "text": [
      "O|8|9\n",
      "X|O|X\n",
      "O|X|O\n",
      "Congratulations! Rutvik won the game!\n",
      "Would you like to play again? (Y/N): n\n",
      "Game Over!\n"
     ]
    }
   ],
   "source": [
    "print('Welcome to Tic Tac Toe!')\n",
    "player1 = input(\"Player1 name: \")\n",
    "player2 = input(\"Player2 name: \")\n",
    "\n",
    "while True:\n",
    "    \n",
    "    # Set the game up here\n",
    "    board = ['#','1','2','3','4','5','6','7','8','9']\n",
    "    player1_marker, player2_marker = player_input(player1)\n",
    "    current_player = choose_first(player1, player2)\n",
    "    print(current_player +\" will go FIRST!\")\n",
    "    game_on = True\n",
    "    display_board(board)\n",
    "    \n",
    "    while game_on:    \n",
    "        \n",
    "        #Player 1's Turn\n",
    "        if current_player  == player1:\n",
    "            \n",
    "            position = player_choice(board, current_player)\n",
    "            place_marker(board, player1_marker, position)\n",
    "            display_board(board)\n",
    "            \n",
    "            if win_check(board, player1_marker):\n",
    "                print(\"Congratulations! \" +player1+ \" won the game!\")\n",
    "                game_on = False\n",
    "                \n",
    "            else:\n",
    "                current_player = player2\n",
    "                \n",
    "                                \n",
    "        # Player2's Turn.\n",
    "        else:\n",
    "            \n",
    "            position = player_choice(board, current_player)\n",
    "            place_marker(board, player2_marker, position)\n",
    "            display_board(board)\n",
    "            \n",
    "            if win_check(board, player2_marker):\n",
    "                print(\"Congratulations! \" +player2+ \" won the game!\")\n",
    "                game_on = False\n",
    "                \n",
    "            else:\n",
    "                current_player = player1\n",
    "                \n",
    "        #full board check        \n",
    "        if full_board_check(board) and game_on:\n",
    "                print(\"Game Over! No one won the game!\")\n",
    "                game_on = False \n",
    "                \n",
    "    if not replay():\n",
    "        print(\"Game Over!\")\n",
    "        break"
   ]
  },
  {
   "cell_type": "code",
   "execution_count": null,
   "metadata": {},
   "outputs": [],
   "source": []
  }
 ],
 "metadata": {
  "kernelspec": {
   "display_name": "Python 3",
   "language": "python",
   "name": "python3"
  },
  "language_info": {
   "codemirror_mode": {
    "name": "ipython",
    "version": 3
   },
   "file_extension": ".py",
   "mimetype": "text/x-python",
   "name": "python",
   "nbconvert_exporter": "python",
   "pygments_lexer": "ipython3",
   "version": "3.8.5"
  }
 },
 "nbformat": 4,
 "nbformat_minor": 1
}
